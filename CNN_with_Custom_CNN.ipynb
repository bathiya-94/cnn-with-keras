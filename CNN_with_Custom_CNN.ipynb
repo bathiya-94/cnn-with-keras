{
  "nbformat": 4,
  "nbformat_minor": 0,
  "metadata": {
    "colab": {
      "name": "CNN_with_Custom_CNN.ipynb",
      "provenance": []
    },
    "kernelspec": {
      "name": "python3",
      "display_name": "Python 3"
    },
    "language_info": {
      "name": "python"
    },
    "gpuClass": "standard",
    "accelerator": "GPU"
  },
  "cells": [
    {
      "cell_type": "code",
      "execution_count": null,
      "metadata": {
        "colab": {
          "base_uri": "https://localhost:8080/"
        },
        "id": "w3ljso5qX25i",
        "outputId": "f66f4f50-7f53-44bb-90cb-d60f8d01bbd3"
      },
      "outputs": [
        {
          "output_type": "stream",
          "name": "stdout",
          "text": [
            "Drive already mounted at /content/drive; to attempt to forcibly remount, call drive.mount(\"/content/drive\", force_remount=True).\n"
          ]
        }
      ],
      "source": [
        "from google.colab import drive\n",
        "drive.mount('/content/drive')"
      ]
    },
    {
      "cell_type": "code",
      "source": [
        "train_path = \"/content/drive/My Drive/plant-seedlings-classification/train\"\n",
        "test_path = \"/content/drive/My Drive/plant-seedlings-classification/test\""
      ],
      "metadata": {
        "id": "GYtLDAfwYS1H"
      },
      "execution_count": null,
      "outputs": []
    },
    {
      "cell_type": "code",
      "source": [
        "import os\n",
        "import os,glob\n",
        "import cv2\n",
        "import numpy as np"
      ],
      "metadata": {
        "id": "gyOYZQahYXe7"
      },
      "execution_count": null,
      "outputs": []
    },
    {
      "cell_type": "code",
      "source": [
        "from sklearn import preprocessing as skLearnPreprocess\n",
        "from sklearn.model_selection import train_test_split\n",
        "from sklearn.model_selection import StratifiedKFold"
      ],
      "metadata": {
        "id": "lXaYNV-nYa6L"
      },
      "execution_count": null,
      "outputs": []
    },
    {
      "cell_type": "code",
      "source": [
        "import tensorflow as tf\n",
        "from tensorflow import keras\n",
        "from tensorflow.keras import layers\n",
        "from tensorflow.keras.layers.experimental import preprocessing"
      ],
      "metadata": {
        "id": "JA9-xAVaYroS"
      },
      "execution_count": null,
      "outputs": []
    },
    {
      "cell_type": "code",
      "source": [
        "def getPath (path):\n",
        "  return glob.glob(path)\n",
        "\n",
        "paths = getPath(train_path +\"/*\")"
      ],
      "metadata": {
        "id": "ZBCLOt7vZKQd"
      },
      "execution_count": null,
      "outputs": []
    },
    {
      "cell_type": "markdown",
      "source": [
        "##  Read Images"
      ],
      "metadata": {
        "id": "4jXgZ7AzaNXj"
      }
    },
    {
      "cell_type": "code",
      "source": [
        "images = []\n",
        "classes=[]\n",
        "missing=0\n",
        "for class_folder_name in os.listdir(train_path):\n",
        "    class_folder_path = os.path.join(train_path, class_folder_name)\n",
        "    class_label = class_folder_name\n",
        "    \n",
        "    for image_path in glob.glob(os.path.join(class_folder_path, \"*.png\")):\n",
        "        image_bgr = cv2.imread(image_path, cv2.IMREAD_COLOR)\n",
        "        if image_bgr is None: # if the file contain any missing value ignore it\n",
        "          missing += 1\n",
        "          continue\n",
        "        images.append(image_bgr)\n",
        "        \n",
        "        classes.append(class_label)"
      ],
      "metadata": {
        "id": "ERInAVF_aMns"
      },
      "execution_count": null,
      "outputs": []
    },
    {
      "cell_type": "markdown",
      "source": [
        "## Resize images"
      ],
      "metadata": {
        "id": "e2sh1jf7aogD"
      }
    },
    {
      "cell_type": "code",
      "source": [
        "# resize image\n",
        "def resize_images(img):\n",
        "\n",
        "  img = np.array(img).astype(np.uint8)\n",
        "  #print(img.dtype)\n",
        "  res = cv2.resize(img,(256,256), interpolation = cv2.INTER_CUBIC)\n",
        "  return res\n",
        "\n",
        "#save resized images into images.\n",
        "images = [resize_images(img) for img in images]"
      ],
      "metadata": {
        "id": "u-jpyrvYaruj"
      },
      "execution_count": null,
      "outputs": []
    },
    {
      "cell_type": "code",
      "source": [
        "classes = np.array(classes).reshape(-1,1)"
      ],
      "metadata": {
        "id": "a1Q1HDXia_8j"
      },
      "execution_count": null,
      "outputs": []
    },
    {
      "cell_type": "code",
      "source": [
        "images = np.array(images)"
      ],
      "metadata": {
        "id": "v3HmLr6SbLTC"
      },
      "execution_count": null,
      "outputs": []
    },
    {
      "cell_type": "markdown",
      "source": [
        "## Label Encoding"
      ],
      "metadata": {
        "id": "GMHadFMDbiHv"
      }
    },
    {
      "cell_type": "code",
      "source": [
        "def encodeLabels(y_train, y_valid):\n",
        "  le = skLearnPreprocess.LabelEncoder()\n",
        "  y_train = le.fit_transform(y_train)\n",
        "  y_valid = le.fit_transform(y_valid)\n",
        "  y_train = tf.keras.utils.to_categorical(y_train, num_classes=12)\n",
        "  y_valid = tf.keras.utils.to_categorical(y_valid, num_classes=12)\n",
        "  y_valid = np.array(y_valid)\n",
        "  y_train = np.array(y_train)\n",
        "\n",
        "  return y_train , y_valid"
      ],
      "metadata": {
        "id": "8199-E8wbaVq"
      },
      "execution_count": null,
      "outputs": []
    },
    {
      "cell_type": "markdown",
      "source": [
        "## Build Model"
      ],
      "metadata": {
        "id": "Bxz17W_EavBd"
      }
    },
    {
      "cell_type": "code",
      "source": [
        "def buildmodel():\n",
        "    model = keras.Sequential([\n",
        "\n",
        "    preprocessing.RandomFlip('horizontal'),\n",
        "    preprocessing.RandomRotation(0.1),\n",
        "    # First Convolutional Block\n",
        "    layers.Conv2D(filters=32, kernel_size=3, activation=\"relu\", padding='same',\n",
        "                  # give the input dimensions in the first layer\n",
        "                  # [height, width, color channels(RGB)]\n",
        "                  input_shape=[256, 256, 3]),\n",
        "    layers.MaxPool2D(),\n",
        "\n",
        "    # Second Convolutional Block\n",
        "    layers.Conv2D(filters=64, kernel_size=3, activation=\"relu\", padding='same'),\n",
        "    layers.MaxPool2D(),\n",
        "    #layers.Dropout(0.2),\n",
        "\n",
        "    # Third Convolutional Block\n",
        "    layers.Conv2D(filters=64, kernel_size=3, activation=\"relu\", padding='same'),\n",
        "    layers.MaxPool2D(),\n",
        "    #layers.Dropout(0.2),\n",
        "\n",
        "    # Fourth Convolutional Block\n",
        "    layers.Conv2D(filters=64, kernel_size=3, activation=\"relu\", padding='same'),\n",
        "    layers.MaxPool2D(),\n",
        "    #layers.Dropout(0.2),\n",
        "\n",
        "    # Fifth Convolutional Block\n",
        "    layers.Conv2D(filters=64, kernel_size=3, activation=\"relu\", padding='same'),\n",
        "    layers.MaxPool2D(),\n",
        "    #layers.Dropout(0.2),\n",
        "\n",
        "    # Sixth Convolutional Block\n",
        "    layers.Conv2D(filters=128, kernel_size=3, activation=\"relu\", padding='same'),\n",
        "    layers.MaxPool2D(),\n",
        "    #layers.Dropout(0.2),\n",
        "\n",
        "    # Seventh Convolutional Block\n",
        "    layers.Conv2D(filters=128, kernel_size=3, activation=\"relu\", padding='same'),\n",
        "    layers.MaxPool2D(),\n",
        "    #layers.Dropout(0.2),\n",
        "\n",
        "    # Classifier Head\n",
        "    layers.Flatten(),\n",
        "    layers.Dense(units=128,kernel_regularizer=keras.regularizers.l2(0.01), activation=\"relu\"),\n",
        "    #layers.Dense(units=128,activation=\"relu\"),\n",
        "    layers.Dense(units=12, activation=\"softmax\"),\n",
        "   ])\n",
        "    \n",
        "    model.compile(\n",
        "    optimizer= tf.keras.optimizers.Adam(epsilon=0.01),\n",
        "    loss='categorical_crossentropy',\n",
        "    metrics=['categorical_accuracy']\n",
        "    )\n",
        "    \n",
        "    return(model)"
      ],
      "metadata": {
        "id": "zE6VkXMucHDM"
      },
      "execution_count": null,
      "outputs": []
    },
    {
      "cell_type": "markdown",
      "source": [
        "## Early Stopping"
      ],
      "metadata": {
        "id": "Z9RWk-I1aWRD"
      }
    },
    {
      "cell_type": "code",
      "source": [
        "early_stopping = keras.callbacks.EarlyStopping(\n",
        "    monitor='val_categorical_accuracy', mode='max', min_delta=0.1,patience=10,\n",
        "    restore_best_weights=True,\n",
        ")"
      ],
      "metadata": {
        "id": "VO_gzpHOySot"
      },
      "execution_count": null,
      "outputs": []
    },
    {
      "cell_type": "markdown",
      "source": [
        "## Cross Validation"
      ],
      "metadata": {
        "id": "22GO9nDMaaMZ"
      }
    },
    {
      "cell_type": "code",
      "source": [
        "kFold = StratifiedKFold(n_splits=5) \n",
        "accuracies = []\n",
        "losses = []"
      ],
      "metadata": {
        "id": "MYLcPnRVdfPP"
      },
      "execution_count": null,
      "outputs": []
    },
    {
      "cell_type": "code",
      "source": [
        "def train_evaluate(model, x_train, y_train, x_test, y_test):\n",
        "    model.fit(x_train, y_train, epochs = 50, validation_data =(x_test,y_test), callbacks = [early_stopping])\n",
        "    return model.evaluate(x_test, y_test)"
      ],
      "metadata": {
        "id": "SHhWuhzueDm0"
      },
      "execution_count": null,
      "outputs": []
    },
    {
      "cell_type": "code",
      "source": [
        "idx = 0\n",
        "for train, test in kFold.split(images, classes):\n",
        "  print(\"Starting Fold\", idx)\n",
        "  model = buildmodel()\n",
        "  \n",
        "  y_train, y_valid = encodeLabels(classes[train],classes[test])\n",
        "\n",
        "  scores = train_evaluate(model, images[train], y_train, images[test],y_valid)\n",
        "  accuracies.append(scores[1])\n",
        "  losses.append (scores[0])\n",
        "  print (\"Validation accuracy: \", scores[1])\n",
        "  print (\"Validation loss\", scores[0])\n",
        "\n",
        "  idx += 1"
      ],
      "metadata": {
        "id": "0pwE8a1KdyY9",
        "colab": {
          "base_uri": "https://localhost:8080/"
        },
        "outputId": "9f1e34c6-4d2b-4488-8f3d-2887de4be10f"
      },
      "execution_count": null,
      "outputs": [
        {
          "output_type": "stream",
          "name": "stdout",
          "text": [
            "Starting Fold 0\n"
          ]
        },
        {
          "output_type": "stream",
          "name": "stderr",
          "text": [
            "/usr/local/lib/python3.7/dist-packages/sklearn/preprocessing/_label.py:115: DataConversionWarning: A column-vector y was passed when a 1d array was expected. Please change the shape of y to (n_samples, ), for example using ravel().\n",
            "  y = column_or_1d(y, warn=True)\n"
          ]
        },
        {
          "output_type": "stream",
          "name": "stdout",
          "text": [
            "Epoch 1/50\n"
          ]
        }
      ]
    },
    {
      "cell_type": "code",
      "source": [
        "print(accuracies)\n",
        "print(np.mean(accuracies))\n",
        "print(np.mean(losses))"
      ],
      "metadata": {
        "id": "Zwb4kgBwetFe"
      },
      "execution_count": null,
      "outputs": []
    }
  ]
}