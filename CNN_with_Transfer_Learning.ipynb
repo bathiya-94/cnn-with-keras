{
  "nbformat": 4,
  "nbformat_minor": 0,
  "metadata": {
    "colab": {
      "name": "CNN_with_Transfer_Learning.ipynb",
      "provenance": []
    },
    "kernelspec": {
      "name": "python3",
      "display_name": "Python 3"
    },
    "language_info": {
      "name": "python"
    },
    "gpuClass": "standard",
    "accelerator": "GPU"
  },
  "cells": [
    {
      "cell_type": "code",
      "execution_count": null,
      "metadata": {
        "colab": {
          "base_uri": "https://localhost:8080/"
        },
        "id": "w3ljso5qX25i",
        "outputId": "a7dc7be8-44ac-48b2-fc47-01007f975622"
      },
      "outputs": [
        {
          "output_type": "stream",
          "name": "stdout",
          "text": [
            "Drive already mounted at /content/drive; to attempt to forcibly remount, call drive.mount(\"/content/drive\", force_remount=True).\n"
          ]
        }
      ],
      "source": [
        "from google.colab import drive\n",
        "drive.mount('/content/drive')"
      ]
    },
    {
      "cell_type": "code",
      "source": [
        "train_path = \"/content/drive/My Drive/Bathiya/plant-seedlings-classification/train\"\n",
        "test_path = \"/content/drive/My Drive/Bathiya/plant-seedlings-classification/test\""
      ],
      "metadata": {
        "id": "GYtLDAfwYS1H"
      },
      "execution_count": null,
      "outputs": []
    },
    {
      "cell_type": "code",
      "source": [
        "import os\n",
        "import os,glob\n",
        "import cv2\n",
        "import numpy as np"
      ],
      "metadata": {
        "id": "gyOYZQahYXe7"
      },
      "execution_count": null,
      "outputs": []
    },
    {
      "cell_type": "code",
      "source": [
        "from sklearn import preprocessing as skLearnPreprocess\n",
        "from sklearn.model_selection import train_test_split\n",
        "from sklearn.model_selection import StratifiedKFold"
      ],
      "metadata": {
        "id": "lXaYNV-nYa6L"
      },
      "execution_count": null,
      "outputs": []
    },
    {
      "cell_type": "code",
      "source": [
        "import tensorflow as tf\n",
        "from tensorflow import keras\n",
        "from tensorflow.keras import layers\n",
        "from tensorflow.keras.layers.experimental import preprocessing"
      ],
      "metadata": {
        "id": "JA9-xAVaYroS"
      },
      "execution_count": null,
      "outputs": []
    },
    {
      "cell_type": "code",
      "source": [
        "def getPath (path):\n",
        "  return glob.glob(path)\n",
        "\n",
        "paths = getPath(train_path +\"/*\")"
      ],
      "metadata": {
        "id": "ZBCLOt7vZKQd"
      },
      "execution_count": null,
      "outputs": []
    },
    {
      "cell_type": "markdown",
      "source": [
        "##  Read Images"
      ],
      "metadata": {
        "id": "4jXgZ7AzaNXj"
      }
    },
    {
      "cell_type": "code",
      "source": [
        "images = []\n",
        "classes=[]\n",
        "missing=0\n",
        "for class_folder_name in os.listdir(train_path):\n",
        "    class_folder_path = os.path.join(train_path, class_folder_name)\n",
        "    class_label = class_folder_name\n",
        "    \n",
        "    for image_path in glob.glob(os.path.join(class_folder_path, \"*.png\")):\n",
        "        image_bgr = cv2.imread(image_path, cv2.IMREAD_COLOR)\n",
        "        if image_bgr is None: # if the file contain any missing value ignore it\n",
        "          missing += 1\n",
        "          continue\n",
        "        images.append(image_bgr)\n",
        "        \n",
        "        classes.append(class_label)"
      ],
      "metadata": {
        "id": "ERInAVF_aMns"
      },
      "execution_count": null,
      "outputs": []
    },
    {
      "cell_type": "markdown",
      "source": [
        "## Resize images"
      ],
      "metadata": {
        "id": "e2sh1jf7aogD"
      }
    },
    {
      "cell_type": "code",
      "source": [
        "# resize image\n",
        "def resize_images(img):\n",
        "\n",
        "  img = np.array(img).astype(np.uint8)\n",
        "  #print(img.dtype)\n",
        "  res = cv2.resize(img,(224,224), interpolation = cv2.INTER_CUBIC)\n",
        "  return res\n",
        "\n",
        "#save resized images into images.\n",
        "images = [resize_images(img) for img in images]"
      ],
      "metadata": {
        "id": "u-jpyrvYaruj"
      },
      "execution_count": null,
      "outputs": []
    },
    {
      "cell_type": "code",
      "source": [
        "classes = np.array(classes).reshape(-1,1)"
      ],
      "metadata": {
        "id": "a1Q1HDXia_8j"
      },
      "execution_count": null,
      "outputs": []
    },
    {
      "cell_type": "code",
      "source": [
        "images = np.array(images)"
      ],
      "metadata": {
        "id": "v3HmLr6SbLTC"
      },
      "execution_count": null,
      "outputs": []
    },
    {
      "cell_type": "markdown",
      "source": [
        "## Label Encoding"
      ],
      "metadata": {
        "id": "GMHadFMDbiHv"
      }
    },
    {
      "cell_type": "code",
      "source": [
        "def encodeLabels(y_train, y_valid):\n",
        "  le = skLearnPreprocess.LabelEncoder()\n",
        "  y_train = le.fit_transform(y_train)\n",
        "  y_valid = le.fit_transform(y_valid)\n",
        "  y_train = tf.keras.utils.to_categorical(y_train, num_classes=12)\n",
        "  y_valid = tf.keras.utils.to_categorical(y_valid, num_classes=12)\n",
        "  y_valid = np.array(y_valid)\n",
        "  y_train = np.array(y_train)\n",
        "\n",
        "  return y_train , y_valid"
      ],
      "metadata": {
        "id": "8199-E8wbaVq"
      },
      "execution_count": null,
      "outputs": []
    },
    {
      "cell_type": "markdown",
      "source": [
        "## Build Model"
      ],
      "metadata": {
        "id": "6tbjfqZFbcIS"
      }
    },
    {
      "cell_type": "code",
      "source": [
        "def buildmodel():\n",
        "    data_augmentation = keras.Sequential(\n",
        "        [layers.RandomFlip(\"horizontal\"), layers.RandomRotation(0.1),]\n",
        "    )\n",
        "\n",
        "    base_model = keras.applications.MobileNetV2(\n",
        "        weights=\"imagenet\",  # Load weights pre-trained on ImageNet.\n",
        "        input_shape=(224, 224, 3),\n",
        "        include_top=False,\n",
        "    )  # Do not include the ImageNet classifier at the top.\n",
        "\n",
        "    # Freeze the base_model\n",
        "    base_model.trainable = False\n",
        "    inputs = keras.Input(shape=(224, 224, 3))\n",
        "    x = data_augmentation(inputs)  # Apply random data augmentation\n",
        "\n",
        "    # Pre-trained Xception weights requires that input be scaled\n",
        "    # from (0, 255) to a range of (-1., +1.), the rescaling layer\n",
        "    # outputs: `(inputs * scale) + offset`\n",
        "    scale_layer = keras.layers.Rescaling(scale=1 / 127.5, offset=-1)\n",
        "    x = scale_layer(x)\n",
        "\n",
        "    # The base model contains batchnorm layers. We want to keep them in inference mode\n",
        "    # when we unfreeze the base model for fine-tuning, so we make sure that the\n",
        "    # base_model is running in inference mode here.\n",
        "    x = base_model(x, training=False)\n",
        "    x = keras.layers.GlobalAveragePooling2D()(x)\n",
        "    x = keras.layers.Dropout(0.2)(x)  # Regularize with dropout\n",
        "    outputs = keras.layers.Dense(12,activation='softmax')(x)\n",
        "    model = keras.Model(inputs, outputs)\n",
        "    \n",
        "    model.compile(\n",
        "    optimizer= tf.keras.optimizers.Adam(epsilon=0.0001),\n",
        "    loss='categorical_crossentropy',\n",
        "    metrics=['categorical_accuracy']\n",
        "    )\n",
        "    \n",
        "    return(model)"
      ],
      "metadata": {
        "id": "zE6VkXMucHDM"
      },
      "execution_count": null,
      "outputs": []
    },
    {
      "cell_type": "markdown",
      "source": [
        "## Cross Validation"
      ],
      "metadata": {
        "id": "AcCn4Ywpbf0t"
      }
    },
    {
      "cell_type": "code",
      "source": [
        "kFold = StratifiedKFold(n_splits=5) \n",
        "accuracies = []\n",
        "losses = []"
      ],
      "metadata": {
        "id": "MYLcPnRVdfPP"
      },
      "execution_count": null,
      "outputs": []
    },
    {
      "cell_type": "code",
      "source": [
        "def train_evaluate(model, x_train, y_train, x_test, y_test):\n",
        "    model.fit(x_train, y_train, epochs = 10)\n",
        "    return model.evaluate(x_test, y_test)"
      ],
      "metadata": {
        "id": "SHhWuhzueDm0"
      },
      "execution_count": null,
      "outputs": []
    },
    {
      "cell_type": "code",
      "source": [
        "idx = 0\n",
        "for train, test in kFold.split(images, classes):\n",
        "  print(\"Starting Fold\", idx)\n",
        "  model = buildmodel()\n",
        "  print(classes[train])\n",
        "  y_train, y_valid = encodeLabels(classes[train],classes[test])\n",
        "\n",
        "  print(y_train)\n",
        "\n",
        "  scores = train_evaluate(model, images[train], y_train, images[test],y_valid)\n",
        "  accuracies.append(scores[1])\n",
        "  losses.append (scores[0])\n",
        "  print (\"Validation accuracy: \", scores[1])\n",
        "  print (\"Validation loss\", scores[0])\n",
        "\n",
        "  idx += 1"
      ],
      "metadata": {
        "id": "0pwE8a1KdyY9"
      },
      "execution_count": null,
      "outputs": []
    },
    {
      "cell_type": "code",
      "source": [
        "print(accuracies)\n",
        "print(np.mean(accuracies))\n",
        "print(np.mean(losses))"
      ],
      "metadata": {
        "id": "Zwb4kgBwetFe",
        "colab": {
          "base_uri": "https://localhost:8080/"
        },
        "outputId": "988a3025-b675-4fb6-f09d-789f7b3e84d3"
      },
      "execution_count": null,
      "outputs": [
        {
          "output_type": "stream",
          "name": "stdout",
          "text": [
            "[0.8389473557472229, 0.8399999737739563, 0.8505263328552246, 0.8463158011436462, 0.8642105460166931]\n",
            "0.8480000019073486\n",
            "0.44977362751960753\n"
          ]
        }
      ]
    }
  ]
}